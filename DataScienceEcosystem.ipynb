{
 "cells": [
  {
   "cell_type": "markdown",
   "id": "69a92fde-a59b-4fa0-aa98-793c7fef00b5",
   "metadata": {},
   "source": [
    "# Data Science Tools and Ecosystem\n"
   ]
  },
  {
   "cell_type": "markdown",
   "id": "6b957743-8be9-447b-9f72-3ecb260abe79",
   "metadata": {
    "tags": []
   },
   "source": [
    "## In this notebook, Data Science Tools and Ecosystem are summarized."
   ]
  },
  {
   "cell_type": "markdown",
   "id": "a0c0f37b-c5ae-4704-b966-566d3a241daf",
   "metadata": {},
   "source": [
    "### Some of the popular languages that Data Scientists use are:\n",
    "1. Python\n",
    "2. R\n",
    "3. Scala\n",
    "4. Julia"
   ]
  },
  {
   "cell_type": "markdown",
   "id": "95bc985d-5cbc-48f1-8cf8-1e82a6648a4c",
   "metadata": {},
   "source": [
    "### Some of the commonly used libraries used by Data Scientists include:\n",
    "1. NumPy\n",
    "2. Pandas\n",
    "3. Matplotlib\n",
    "4. Seaborn"
   ]
  },
  {
   "cell_type": "markdown",
   "id": "378723b7-7a60-4606-825a-da0c021bef21",
   "metadata": {},
   "source": [
    "### Data Science Tools:\n",
    "---\n",
    "### Jupyter NoteBook\n",
    "---\n",
    "### VScode\n",
    "---\n",
    "### Spyder\n",
    "---\n",
    "### Google Colab\n",
    "---"
   ]
  },
  {
   "cell_type": "markdown",
   "id": "3458c4be-7dfb-433e-82d8-f0002b1830db",
   "metadata": {},
   "source": [
    "### Below are a few examples of evaluating arithmetic expressions in Python"
   ]
  },
  {
   "cell_type": "code",
   "execution_count": 4,
   "id": "8dcf3cf2-beba-4a38-aad7-61c4a14113c5",
   "metadata": {
    "tags": []
   },
   "outputs": [
    {
     "name": "stdout",
     "output_type": "stream",
     "text": [
      "17\n"
     ]
    }
   ],
   "source": [
    "# This a simple arithmetic expression to mutiply then add integers\n",
    "a = (3*4)+5\n",
    "print(a)"
   ]
  },
  {
   "cell_type": "code",
   "execution_count": 9,
   "id": "901c48d1-b3d1-4fe1-bc33-231f2d787dd3",
   "metadata": {
    "tags": []
   },
   "outputs": [
    {
     "name": "stdout",
     "output_type": "stream",
     "text": [
      "There are  3.3333333333333335 in 200 minutes\n"
     ]
    }
   ],
   "source": [
    "# This will convert 200 minutes to hours by diving by 60\n",
    "minutes = 200\n",
    "hours = 200/60\n",
    "print(\"There are \", hours, \"in 200 minutes\")"
   ]
  },
  {
   "cell_type": "markdown",
   "id": "48648bc2-76de-4fb0-b101-8abe0abe8d08",
   "metadata": {},
   "source": [
    "  **OBJECTIVES :**\n",
    "* List popular languages for Data Science.\n",
    "* List popular libraries for Data Science.\n",
    "* Data Science Tools.\n",
    "* Example of Arthimatic Equation.\n",
    "* Conver minutes into Hours."
   ]
  },
  {
   "cell_type": "markdown",
   "id": "13cd8f83-d617-42b7-9164-8bf0dde002ed",
   "metadata": {},
   "source": [
    "## Author:\n",
    "Syed Muhammad Huzaifa\n"
   ]
  }
 ],
 "metadata": {
  "kernelspec": {
   "display_name": "Python",
   "language": "python",
   "name": "conda-env-python-py"
  },
  "language_info": {
   "codemirror_mode": {
    "name": "ipython",
    "version": 3
   },
   "file_extension": ".py",
   "mimetype": "text/x-python",
   "name": "python",
   "nbconvert_exporter": "python",
   "pygments_lexer": "ipython3",
   "version": "3.7.12"
  }
 },
 "nbformat": 4,
 "nbformat_minor": 5
}
